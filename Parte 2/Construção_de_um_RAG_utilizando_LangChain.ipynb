{
  "cells": [
    {
      "cell_type": "markdown",
      "source": [
        "#Grupo RM\n",
        "\n",
        "\n",
        "1.   Ruy Ovidio\n",
        "\n",
        "2.   Matheus Barreto\n"
      ],
      "metadata": {
        "id": "tBZfJZZCKRGL"
      }
    },
    {
      "cell_type": "markdown",
      "source": [
        "#Projeto Final - Parte 2\n",
        "\n",
        "##Construção de um RAG utilizando LangChain\n",
        "\n",
        "\n",
        "Deverá ser desenvolvido um sistema RAG (Retrieval-Augmented Generation) utilizando a biblioteca LangChain para um ou mais documentos de sua escolha. Podendo ser arquivos PDF, de texto, páginas da web etc. O projeto será avaliado nos seguintes aspectos:\n",
        "Escolha do Documento\n",
        "Splitting do Documento\n",
        "Criação de Vector Store\n",
        "Retrieval\n",
        "Geração de Respostas"
      ],
      "metadata": {
        "id": "IFp07tKjKF6w"
      }
    },
    {
      "cell_type": "markdown",
      "source": [
        "## Objetivo do trabalho\n",
        "\n",
        "O objetivo deste trabalho consiste na construção de uma RAG utilizando LangChain para auxiliar um possivel candidato no concurso do BNDES, respondendo perguntas relacionadas ao edital do concurso."
      ],
      "metadata": {
        "id": "DvuZoPWwrl4s"
      }
    },
    {
      "cell_type": "code",
      "execution_count": null,
      "metadata": {
        "id": "6-mIrY_0199B",
        "colab": {
          "base_uri": "https://localhost:8080/"
        },
        "outputId": "cf0063e6-b8f7-42a5-8d77-f9076c0344b0"
      },
      "outputs": [
        {
          "name": "stdout",
          "output_type": "stream",
          "text": [
            "··········\n"
          ]
        }
      ],
      "source": [
        "import getpass\n",
        "import os\n",
        "\n",
        "os.environ[\"OPENAI_API_KEY\"] = getpass.getpass()"
      ]
    },
    {
      "cell_type": "markdown",
      "metadata": {
        "id": "UOezNFo_199C"
      },
      "source": [
        "## Retrieval Augmented Generation (RAG)"
      ]
    },
    {
      "cell_type": "markdown",
      "metadata": {
        "id": "MsmSTQZ_199D"
      },
      "source": [
        "### Carregando Documentos da Web - Loading"
      ]
    },
    {
      "cell_type": "code",
      "source": [
        "!pip install langchain_community langchain_openai faiss-gpu"
      ],
      "metadata": {
        "id": "kT4y4EewfycW"
      },
      "execution_count": null,
      "outputs": []
    },
    {
      "cell_type": "code",
      "source": [
        "!pip install --upgrade --quiet pypdf"
      ],
      "metadata": {
        "id": "5YfS0NU7vhs4",
        "colab": {
          "base_uri": "https://localhost:8080/"
        },
        "outputId": "2d5ce31a-b342-4746-d901-1abd5b63b643"
      },
      "execution_count": null,
      "outputs": [
        {
          "output_type": "stream",
          "name": "stdout",
          "text": [
            "\u001b[?25l   \u001b[90m━━━━━━━━━━━━━━━━━━━━━━━━━━━━━━━━━━━━━━━━\u001b[0m \u001b[32m0.0/295.8 kB\u001b[0m \u001b[31m?\u001b[0m eta \u001b[36m-:--:--\u001b[0m\r\u001b[2K   \u001b[90m━━━━━━━━━━━━━━━━━━━━━━━━━━━━━━━━━━━━━━━━\u001b[0m \u001b[32m295.8/295.8 kB\u001b[0m \u001b[31m10.6 MB/s\u001b[0m eta \u001b[36m0:00:00\u001b[0m\n",
            "\u001b[?25h"
          ]
        }
      ]
    },
    {
      "cell_type": "code",
      "source": [
        "from google.colab import files\n",
        "from langchain_community.document_loaders import PyPDFLoader\n",
        "\n",
        "uploaded = files.upload()"
      ],
      "metadata": {
        "colab": {
          "base_uri": "https://localhost:8080/",
          "height": 73
        },
        "id": "UTSEp6eCLLtz",
        "outputId": "14a23d61-c95c-414a-b763-482c9ac23098"
      },
      "execution_count": null,
      "outputs": [
        {
          "output_type": "display_data",
          "data": {
            "text/plain": [
              "<IPython.core.display.HTML object>"
            ],
            "text/html": [
              "\n",
              "     <input type=\"file\" id=\"files-544a00a5-911e-4c63-b3be-711947539195\" name=\"files[]\" multiple disabled\n",
              "        style=\"border:none\" />\n",
              "     <output id=\"result-544a00a5-911e-4c63-b3be-711947539195\">\n",
              "      Upload widget is only available when the cell has been executed in the\n",
              "      current browser session. Please rerun this cell to enable.\n",
              "      </output>\n",
              "      <script>// Copyright 2017 Google LLC\n",
              "//\n",
              "// Licensed under the Apache License, Version 2.0 (the \"License\");\n",
              "// you may not use this file except in compliance with the License.\n",
              "// You may obtain a copy of the License at\n",
              "//\n",
              "//      http://www.apache.org/licenses/LICENSE-2.0\n",
              "//\n",
              "// Unless required by applicable law or agreed to in writing, software\n",
              "// distributed under the License is distributed on an \"AS IS\" BASIS,\n",
              "// WITHOUT WARRANTIES OR CONDITIONS OF ANY KIND, either express or implied.\n",
              "// See the License for the specific language governing permissions and\n",
              "// limitations under the License.\n",
              "\n",
              "/**\n",
              " * @fileoverview Helpers for google.colab Python module.\n",
              " */\n",
              "(function(scope) {\n",
              "function span(text, styleAttributes = {}) {\n",
              "  const element = document.createElement('span');\n",
              "  element.textContent = text;\n",
              "  for (const key of Object.keys(styleAttributes)) {\n",
              "    element.style[key] = styleAttributes[key];\n",
              "  }\n",
              "  return element;\n",
              "}\n",
              "\n",
              "// Max number of bytes which will be uploaded at a time.\n",
              "const MAX_PAYLOAD_SIZE = 100 * 1024;\n",
              "\n",
              "function _uploadFiles(inputId, outputId) {\n",
              "  const steps = uploadFilesStep(inputId, outputId);\n",
              "  const outputElement = document.getElementById(outputId);\n",
              "  // Cache steps on the outputElement to make it available for the next call\n",
              "  // to uploadFilesContinue from Python.\n",
              "  outputElement.steps = steps;\n",
              "\n",
              "  return _uploadFilesContinue(outputId);\n",
              "}\n",
              "\n",
              "// This is roughly an async generator (not supported in the browser yet),\n",
              "// where there are multiple asynchronous steps and the Python side is going\n",
              "// to poll for completion of each step.\n",
              "// This uses a Promise to block the python side on completion of each step,\n",
              "// then passes the result of the previous step as the input to the next step.\n",
              "function _uploadFilesContinue(outputId) {\n",
              "  const outputElement = document.getElementById(outputId);\n",
              "  const steps = outputElement.steps;\n",
              "\n",
              "  const next = steps.next(outputElement.lastPromiseValue);\n",
              "  return Promise.resolve(next.value.promise).then((value) => {\n",
              "    // Cache the last promise value to make it available to the next\n",
              "    // step of the generator.\n",
              "    outputElement.lastPromiseValue = value;\n",
              "    return next.value.response;\n",
              "  });\n",
              "}\n",
              "\n",
              "/**\n",
              " * Generator function which is called between each async step of the upload\n",
              " * process.\n",
              " * @param {string} inputId Element ID of the input file picker element.\n",
              " * @param {string} outputId Element ID of the output display.\n",
              " * @return {!Iterable<!Object>} Iterable of next steps.\n",
              " */\n",
              "function* uploadFilesStep(inputId, outputId) {\n",
              "  const inputElement = document.getElementById(inputId);\n",
              "  inputElement.disabled = false;\n",
              "\n",
              "  const outputElement = document.getElementById(outputId);\n",
              "  outputElement.innerHTML = '';\n",
              "\n",
              "  const pickedPromise = new Promise((resolve) => {\n",
              "    inputElement.addEventListener('change', (e) => {\n",
              "      resolve(e.target.files);\n",
              "    });\n",
              "  });\n",
              "\n",
              "  const cancel = document.createElement('button');\n",
              "  inputElement.parentElement.appendChild(cancel);\n",
              "  cancel.textContent = 'Cancel upload';\n",
              "  const cancelPromise = new Promise((resolve) => {\n",
              "    cancel.onclick = () => {\n",
              "      resolve(null);\n",
              "    };\n",
              "  });\n",
              "\n",
              "  // Wait for the user to pick the files.\n",
              "  const files = yield {\n",
              "    promise: Promise.race([pickedPromise, cancelPromise]),\n",
              "    response: {\n",
              "      action: 'starting',\n",
              "    }\n",
              "  };\n",
              "\n",
              "  cancel.remove();\n",
              "\n",
              "  // Disable the input element since further picks are not allowed.\n",
              "  inputElement.disabled = true;\n",
              "\n",
              "  if (!files) {\n",
              "    return {\n",
              "      response: {\n",
              "        action: 'complete',\n",
              "      }\n",
              "    };\n",
              "  }\n",
              "\n",
              "  for (const file of files) {\n",
              "    const li = document.createElement('li');\n",
              "    li.append(span(file.name, {fontWeight: 'bold'}));\n",
              "    li.append(span(\n",
              "        `(${file.type || 'n/a'}) - ${file.size} bytes, ` +\n",
              "        `last modified: ${\n",
              "            file.lastModifiedDate ? file.lastModifiedDate.toLocaleDateString() :\n",
              "                                    'n/a'} - `));\n",
              "    const percent = span('0% done');\n",
              "    li.appendChild(percent);\n",
              "\n",
              "    outputElement.appendChild(li);\n",
              "\n",
              "    const fileDataPromise = new Promise((resolve) => {\n",
              "      const reader = new FileReader();\n",
              "      reader.onload = (e) => {\n",
              "        resolve(e.target.result);\n",
              "      };\n",
              "      reader.readAsArrayBuffer(file);\n",
              "    });\n",
              "    // Wait for the data to be ready.\n",
              "    let fileData = yield {\n",
              "      promise: fileDataPromise,\n",
              "      response: {\n",
              "        action: 'continue',\n",
              "      }\n",
              "    };\n",
              "\n",
              "    // Use a chunked sending to avoid message size limits. See b/62115660.\n",
              "    let position = 0;\n",
              "    do {\n",
              "      const length = Math.min(fileData.byteLength - position, MAX_PAYLOAD_SIZE);\n",
              "      const chunk = new Uint8Array(fileData, position, length);\n",
              "      position += length;\n",
              "\n",
              "      const base64 = btoa(String.fromCharCode.apply(null, chunk));\n",
              "      yield {\n",
              "        response: {\n",
              "          action: 'append',\n",
              "          file: file.name,\n",
              "          data: base64,\n",
              "        },\n",
              "      };\n",
              "\n",
              "      let percentDone = fileData.byteLength === 0 ?\n",
              "          100 :\n",
              "          Math.round((position / fileData.byteLength) * 100);\n",
              "      percent.textContent = `${percentDone}% done`;\n",
              "\n",
              "    } while (position < fileData.byteLength);\n",
              "  }\n",
              "\n",
              "  // All done.\n",
              "  yield {\n",
              "    response: {\n",
              "      action: 'complete',\n",
              "    }\n",
              "  };\n",
              "}\n",
              "\n",
              "scope.google = scope.google || {};\n",
              "scope.google.colab = scope.google.colab || {};\n",
              "scope.google.colab._files = {\n",
              "  _uploadFiles,\n",
              "  _uploadFilesContinue,\n",
              "};\n",
              "})(self);\n",
              "</script> "
            ]
          },
          "metadata": {}
        },
        {
          "output_type": "stream",
          "name": "stdout",
          "text": [
            "Saving edital-BNDES (1).pdf to edital-BNDES (1).pdf\n"
          ]
        }
      ]
    },
    {
      "cell_type": "code",
      "source": [
        "file_path = (\n",
        "    \"/content/edital-BNDES (1).pdf\"\n",
        ")\n",
        "loader = PyPDFLoader(file_path)\n",
        "docs = loader.load_and_split()\n",
        "\n",
        "docs[0]"
      ],
      "metadata": {
        "colab": {
          "base_uri": "https://localhost:8080/"
        },
        "id": "vF57YDxPvcS8",
        "outputId": "c9ba2fcb-4a28-4092-ff87-decef05c837c"
      },
      "execution_count": null,
      "outputs": [
        {
          "output_type": "execute_result",
          "data": {
            "text/plain": [
              "Document(metadata={'source': '/content/edital-BNDES (1).pdf', 'page': 0}, page_content='Documento assinado digitalmente conforme MP nº 2.200-2 de 24/08/2001,\\nque institui a Infraestrutura de Chaves Públicas Brasileira - ICP-Brasil.Este documento pode ser verificado no endereço eletrônico\\nhttp://www.in.gov.br/autenticidade.html , pelo código 0530202407220002626\\nNº 139, segunda-feira, 22 de julho de 2024 ISSN 1677-7069 Seção 3\\nAVISO DE LICITAÇÃO\\nPROCEDIMENTO LICITATÓRIO ELETRÔNICO Nº 91008/2024. Processo nº 091/2023.\\nEsta Licitação é regida pela Lei nº 13.303, de 30/06/2016. Objeto: Concessão\\nRemunerada de Uso para diversas Áreas Vagas do ETSP - Entreposto Terminal de São\\nPaulo, conforme quantidades e especificações descritas no ANEXO I - TERMO DE\\nREFERÊNCIA. Obtenção do Edital: a partir de 22/07/2024, através do site www.licitacoes-\\ne.com.br, opção \"Licitações\" e na SELIC - Seção de Licitações. Visita: até 13/09/2024.\\nSessão: em 16/09/2024 às 09h30 no site www.licitacoes-e.com.br.\\nMARIA VALDIRENE RODRIGUES DA SILVA CARLOS\\nPresidente da Comissão Julgadora\\nMinistério do Desenvolvimento e Assistência Social,\\nFamília e Combate à Fome\\nSECRETARIA EXECUTIVA\\nSUBSECRETARIA DE ASSUNTOS ADMINISTRATIVOS\\nCOORDENAÇÃO-GERAL DE LICITAÇÕES E CONTRATOS\\nEXTRATO DE CONTRATO Nº 67/2024 - UASG 550005\\nNº Processo: 71000.084929/2023-26.\\nInexigibilidade Nº 90195/2024. Contratante: MINISTÉRIO DO DESENVOLVIMENTO E\\nASSISTÊNCIA SOCIAL FAMÍLIA E COMBATE À FOME\\nContratado: 27.920.016/0001-79 - MEIOS DE PRODUÇÃO E COMUNICAÇÃO LTDA. Ob\\njeto:\\nContratação de empresa para possibilitar a participação do Ministério do Desenvolvimento\\ne Assistência Social, Família e Combate à Fome, por meio de 01 (uma) cota de patrocínio\\ndo Documentário \"Histórias da Fome no Brasil 2\", com previsão de realização \\nde abril de\\n2024 a maio de 2025.\\nFundamento Legal: LEI 14.133/2021 - Artigo: 74 - Inciso: I. Vigência: 18/07/2024 a\\n17/08/2025. Valor Total: R$ 500.000,00. Data de Assinatura: 18/07/2024.\\n(COMPRASNET 4.0 - 19/07/2024).\\nEXTRATO DE TERMO ADITIVO Nº 2/2024 - UASG 550005\\nNúmero do Contrato: 33/2022.\\nNº Processo: 71000.074238/2021-52.\\nPregão. Nº 15/2022. Contratante: MINISTÉRIO DO DESENVOLVIMENTO E ASSISTÊ\\nNCIA\\nSOCIAL, FAMÍLIA E COMBATE À FOME. Contratado: 04.768.702/0001-70 - ENGEMIL-\\nENGENHARIA, EMPREENDIMENTOS,MANUTENÇÃO E INSTALAÇÕES LTDA. Objeto: ALT\\nERAR\\no disposto no item 22.14 do termo de referência do Contrato Administrativo nº 33/2022\\npara inclusão de referência expressa ao Índice Nacional da Construção Civi l - INCC-DI como\\ncritério de reajuste, passando o item vigorar com a seguinte redação:\\n\"22.14 quando a repactuação solicitada pela Contratada se referir aos custos sujeitos à\\nvariação dos preços de mercado (insumos não decorrentes da mão de obra), o re\\nspectivo\\naumento será apurado mediante a aplicação do índice de reajustamento INCC - DI (Índice\\nNacional da Construção Civil -INCC - DI), com base na seguinte fórmula (art. 5º do Decreto\\nn.º 1.054, de 1994):\\nR= V (I - Io ) / Io , onde:\\nR = Valor do reajuste procurado;\\nV = Valor contratual correspondente à parcela dos insumos a ser reajustada;\\nI° = índice inicial - refere-se ao índice de custos ou de preços corresponden\\nte à data fixada\\npara entrega da proposta na licitação;\\nI = índice relativo ao mês do reajustamento; REAJUSTAR os preços dos itens não\\nrelacionados à mão de obra constantes das Planilhas de Custo e Formação de Preços do\\nContrato no percentual de 3,49% correspondente à variação do Índice Nacional da\\nConstrução Civil - INCC - DI, acumulada no período de setembro de 2022 a setem\\nbro de\\n2023, com efeitos financeiros a partir de 16/09/2023; REPACTUAR o Contrato\\nAdministrativo nº 33/2022, para adequação de preços, por força da Convençã o Coletiva de\\nTrabalho 2023/2025 - DF000498/2023, firmada entre o Sindicato Nacional das Empresas de\\nArquitetura e Engenharia Consultiva e o Sindicato dos Arquitetos do Distri to Federal,\\nvigente 1º de maio de 2023 a 30 de abril de 2025 e que fixa 1º de maio como data-base\\ndas categorias. De 01/05/2023 a 15/09/2023, os novos valores contratuais referentes à')"
            ]
          },
          "metadata": {},
          "execution_count": 5
        }
      ]
    },
    {
      "cell_type": "code",
      "execution_count": null,
      "metadata": {
        "id": "b0E1rKcn199F",
        "colab": {
          "base_uri": "https://localhost:8080/"
        },
        "outputId": "acbd927e-db0f-4fab-dc33-09873059254b"
      },
      "outputs": [
        {
          "output_type": "stream",
          "name": "stdout",
          "text": [
            "Concessão\n",
            "Remunerada de Uso para diversas Áreas Vagas do ETSP - Entreposto Terminal de São\n",
            "Paulo, conforme quantidades e especificações descritas no ANEXO I - TERMO DE\n",
            "REFERÊNCIA. Obtenção do Edital: a partir de 22/07/2024, através do site www.licitacoes-\n",
            "e.com.br, opção \"Licitações\" e na SELIC - Seção de Licitações. Visita: até 13/09/2024.\n",
            "Sessão: em 16/09/2024 às 09h30 no site www.licitacoes-e.com.br.\n",
            "MARIA VALDIRENE RODRIGUES DA SILVA CARLOS\n",
            "Presidente da Comissão Julgadora\n",
            "Ministério do Dese\n"
          ]
        }
      ],
      "source": [
        "print(docs[0].page_content[500:1000])"
      ]
    },
    {
      "cell_type": "markdown",
      "metadata": {
        "id": "0-MlI5Kg199G"
      },
      "source": [
        "### Dividindo Documentos - Splitting/Chunking"
      ]
    },
    {
      "cell_type": "code",
      "execution_count": null,
      "metadata": {
        "id": "WoB-fjS0199G",
        "outputId": "90f8ebda-3c28-48c1-8cd4-0c474305620d",
        "colab": {
          "base_uri": "https://localhost:8080/"
        }
      },
      "outputs": [
        {
          "output_type": "stream",
          "name": "stdout",
          "text": [
            "318\n"
          ]
        }
      ],
      "source": [
        "# https://python.langchain.com/v0.2/docs/how_to/#text-splitters\n",
        "\n",
        "from langchain.text_splitter import RecursiveCharacterTextSplitter\n",
        "\n",
        "text_splitter = RecursiveCharacterTextSplitter(\n",
        "    chunk_size=1000, chunk_overlap=200, add_start_index=True\n",
        ")\n",
        "all_splits = text_splitter.split_documents(docs)\n",
        "\n",
        "print(len(all_splits))"
      ]
    },
    {
      "cell_type": "code",
      "execution_count": null,
      "metadata": {
        "id": "wKMEjDcJ199H",
        "outputId": "9f975d56-578a-4361-89fb-7bca526c6a83",
        "colab": {
          "base_uri": "https://localhost:8080/"
        }
      },
      "outputs": [
        {
          "output_type": "stream",
          "name": "stdout",
          "text": [
            "do Documentário \"Histórias da Fome no Brasil 2\", com previsão de realização \n",
            "de abril de\n",
            "2024 a maio de 2025.\n",
            "Fundamento Legal: LEI 14.133/2021 - Artigo: 74 - Inciso: I. Vigência: 18/07/2024 a\n",
            "17/08/2025. Valor Total: R$ 500.000,00. Data de Assinatura: 18/07/2024.\n",
            "(COMPRASNET 4.0 - 19/07/2024).\n",
            "EXTRATO DE TERMO ADITIVO Nº 2/2024 - UASG 550005\n",
            "Número do Contrato: 33/2022.\n",
            "Nº Processo: 71000.074238/2021-52.\n",
            "Pregão. Nº 15/2022. Contratante: MINISTÉRIO DO DESENVOLVIMENTO E ASSISTÊ\n",
            "NCIA\n",
            "SOCIAL, FAMÍLIA E COMBATE À FOME. Contratado: 04.768.702/0001-70 - ENGEMIL-\n",
            "ENGENHARIA, EMPREENDIMENTOS,MANUTENÇÃO E INSTALAÇÕES LTDA. Objeto: ALT\n",
            "ERAR\n",
            "o disposto no item 22.14 do termo de referência do Contrato Administrativo nº 33/2022\n",
            "para inclusão de referência expressa ao Índice Nacional da Construção Civi l - INCC-DI como\n",
            "critério de reajuste, passando o item vigorar com a seguinte redação:\n",
            "\"22.14 quando a repactuação solicitada pela Contratada se referir aos custos sujeitos à\n"
          ]
        }
      ],
      "source": [
        "print(all_splits[2].page_content)"
      ]
    },
    {
      "cell_type": "markdown",
      "metadata": {
        "id": "CcuEcEFa199H"
      },
      "source": [
        "### Indexando - Store"
      ]
    },
    {
      "cell_type": "code",
      "source": [
        "# https://python.langchain.com/v0.2/docs/how_to/embed_text/\n",
        "\n",
        "from langchain_community.vectorstores import FAISS\n",
        "from langchain_openai import OpenAIEmbeddings\n",
        "\n",
        "vectorstore = FAISS.from_documents(all_splits, OpenAIEmbeddings())"
      ],
      "metadata": {
        "id": "U2IIWrFpME3W"
      },
      "execution_count": null,
      "outputs": []
    },
    {
      "cell_type": "code",
      "execution_count": null,
      "metadata": {
        "id": "jLibQhLp199H",
        "outputId": "a5a94058-82d0-4e34-d759-514017d839f6",
        "colab": {
          "base_uri": "https://localhost:8080/"
        }
      },
      "outputs": [
        {
          "output_type": "stream",
          "name": "stdout",
          "text": [
            "[Document(metadata={'source': '/content/edital-BNDES (1).pdf', 'page': 7, 'start_index': 3129}, page_content='Conceitos básicos; Tipos especiais; Representação; Caminhos e circuitos; Árvores e\\nflorestas; Busca em largura; Busca em profundidade; Algoritmos de caminho mínimo;\\nColoração de grafos; Algoritmos de árvore geradora mínima; Outros algoritmos. II -\\nDESENVOLVIMENTO DE SISTEMAS: 1. Fundamentos de Linguagem de Programação: \\nTipos\\nde dados (vinculação; verificação de tipos, tipificação forte e fraca); Estruturas de controle\\n(comandos de decisão e repetição, exceções, operadores ternários); Modularização; Sub-\\nrotinas, funções e funções anônimas; Passagem de parâmetros por referênci\\na e valor;\\nEscopo de variáveis; Linguagem de montagem; Ligação (linking) estática e dinâmica;\\nConceitos de processamento paralelo e distribuído; Programação assíncro\\nna. 2.\\nProgramação orientada a objetos: Conceitos de orientação a objetos; Classes e objetos;'), Document(metadata={'source': '/content/edital-BNDES (1).pdf', 'page': 6, 'start_index': 773}, page_content='gramaticais relevantes. 3. Vocabulário. 4. Mecanismos de coesão textual (referenciação e\\nsequenciação). 5. Semântica.\\nCONHECIMENTOS TRANSVERSAIS: 1. Políticas Públicas e Desenvolvimento: 1.1\\nPlanejamento governamental, finanças e gestão pública; 1.2 Papel das instituições; 1.3\\nNoções sobre finanças públicas, ciclo orçamentário, controles interno e e\\nxterno; 1.4\\nNoções básicas e estágios do ciclo político-administrativo da política pú blica; 1.4.1\\nImportância do monitoramento e da avaliação da efetividade das políticas públicas; 1.4.2\\nModelos de análise de políticas públicas; 1.5 Formas de atuação da política pública; 1.5.1\\nProgramas sociais e de garantia da renda; 1.5.2 Incentivos tributários, su bsídios e taxação;\\n1.6 Papel das compras públicas no adensamento produtivo e tecnológico; 1.7 Políticas\\nfiscal e monetária verdes. 2. Papel do BNDES no desenvolvimento brasileiro: 2.1 História\\npolítica e econômica do Brasil e o papel do BNDES no desenvolvimento do país; 2.1.1 O'), Document(metadata={'source': '/content/edital-BNDES (1).pdf', 'page': 4, 'start_index': 0}, page_content='Portuguesa e Língua Inglesa) e 35 (trinta e cinco) questões de Conhecimentos\\nEspecíficos, num total de 70 (setenta) questões com 5 (cinco) alternativas \\nde resposta (A,\\nB, C, D, E) e uma única resposta correta. As questões das provas objetivas obedecerão\\nà seguinte valoração:\\na) Conhecimentos Transversais - 20 (vinte) questões valendo 1,0 (um) ponto,\\nsubtotalizando 20,0 (vinte) pontos;\\nb) Língua Portuguesa - 10 (dez) questões valendo 1,0 (um) ponto,\\nsubtotalizando 10,0 (dez) pontos;\\nc) Língua Inglesa - 5 (cinco) questões valendo 1,0 (um) ponto, subtotalizan do\\n5,0 (cinco) pontos;\\nd) Conhecimentos Específicos - 35 (trinta e cinco) questões valendo 1,0 (um)\\nponto, subtotalizando 35,0 (trinta e cinco) pontos.\\nTotal das provas objetivas: 70,0 (setenta) PONTOS.\\n8.1.3 Após a 1ª Etapa, os candidatos serão classificados por ênfase a partir do\\ntotal de pontos obtidos, sendo eliminado(a) o(a) candidato(a) que obtiver'), Document(metadata={'source': '/content/edital-BNDES (1).pdf', 'page': 4, 'start_index': 2361}, page_content='pontuação da prova discursiva;\\nb) elaborar uma resposta que for assinada e/ou apresentar qualquer sinal\\nque, de alguma forma, possibilite a sua identificação.\\n8.1.5.1.1 - Obterá nota ZERO na questão o(a) candidato(a) que:\\na) der a resposta a lápis, em parte ou na sua totalidade;\\nb) fugir ao tema proposto;\\nc) apresentar texto com letra ilegível ou sob forma não articulada\\nverbalmente em língua portuguesa (apenas com desenhos, números e palavras \\nsoltas ou\\nem forma de verso).\\n8.1.5.2 - A avaliação das questões discursivas levará em conta os aspectos\\ndescritos a seguir.\\n8.1.5.2.1 - Com relação às questões de Conhecimentos Específicos, será\\naferida a capacidade de lidar com os conceitos, as técnicas e as atividades, expondo com\\nclareza e objetividade aspectos ligados aos conteúdos específicos da ênfase a que se\\ncandidatou.\\n8.1.5.2.2 - Com relação à questão de Conhecimentos Transversais (comum a\\ntodas as ênfases), a avaliação considerará:'), Document(metadata={'source': '/content/edital-BNDES (1).pdf', 'page': 6, 'start_index': 0}, page_content='..ENGENHARIA .13 .8 .4 .25 .69 .37 . 19 .125\\n..PSICOLOGIA ORGANIZACIONAL .1 . * .* .1 .2 .2 . 1 .5\\nAC = ampla concorrência PcD = pessoa com deficiência CN = candidato(a)\\nnegro(a)\\n*não haverá reserva de vaga para PcD ou para candidatos(as) negros(as) para\\ncontratação imediata em razão do quantitativo oferecido, sendo mantido ca\\ndastro de\\nreserva.\\nANEXO II - CONTEÚDOS PROGRAMÁTICOS\\nCONHECIMENTOS BÁSICOS\\nLÍNGUA PORTUGUESA: 1. Compreensão de texto. 2. Ortografia oficial. 3.\\nMecanismos de coesão textual. 4. Significação das palavras. 5. Emprego das classes de\\npalavras. 6. Coordenação e de subordinação. 7. Emprego dos sinais de pontuação. 8.\\nConcordância verbal e nominal. 9. Regência verbal e nominal.\\nLÍNGUA INGLESA: 1. Compreensão de texto em língua inglesa. 2. Itens\\ngramaticais relevantes. 3. Vocabulário. 4. Mecanismos de coesão textual (referenciação e\\nsequenciação). 5. Semântica.\\nCONHECIMENTOS TRANSVERSAIS: 1. Políticas Públicas e Desenvolvimento: 1.1'), Document(metadata={'source': '/content/edital-BNDES (1).pdf', 'page': 7, 'start_index': 2347}, page_content='Conteinerização; Virtualização; Gerenciamento de memória; Gerenciamen\\nto de I/O. 3.\\nRedes: Modelo TCP/IP; Protocolos de aplicação DNS, HTTP, HTTPS e WebSocket; Protocolos\\nde transporte TCP e UDP; Protocolo IP (endereçamento, IPV4, IPV6); Protocolos de\\nsegurança SSL e TLS; Redes locais virtuais (VLANS); VPN. 4. Computação dist\\nribuída:\\nConceitos básicos; Clusters; Balanceamento de carga e tolerância a falhas. 5. Lógica: Lógica\\nproposicional; Lógica de predicados; Álgebra booleana; Lógica fuzzy; Métodos de prova. 6.\\nAlgoritmos e estrutura de dados: Complexidade de algoritmos; Listas, pilh\\nas, filas e suas\\nvariações; Vetores e matrizes; Estruturas em árvores; Árvores balanceadas; Métodos de\\nordenação; Métodos de divisão e conquista; Pesquisa e hashing. 7. Teoria dos Grafos:\\nConceitos básicos; Tipos especiais; Representação; Caminhos e circuitos; Árvores e\\nflorestas; Busca em largura; Busca em profundidade; Algoritmos de caminho mínimo;')]\n"
          ]
        }
      ],
      "source": [
        "retriever = vectorstore.as_retriever(search_type=\"similarity\", search_kwargs={\"k\": 6})\n",
        "\n",
        "retrieved_docs = retriever.invoke(\"Quais são os conteudos basicos de língua portuguesa?\")\n",
        "\n",
        "print(retrieved_docs)"
      ]
    },
    {
      "cell_type": "markdown",
      "source": [
        "#Adição"
      ],
      "metadata": {
        "id": "iQD-f1YST9bV"
      }
    },
    {
      "cell_type": "markdown",
      "source": [
        "1 - Criação de Embeddings\n",
        "\n",
        "2 - Indexação com FAISS\n",
        "\n",
        "3 - Buscando Documentos\n",
        "\n",
        "4 - Exibição dos Resultados"
      ],
      "metadata": {
        "id": "HFYcOfX2UBL5"
      }
    },
    {
      "cell_type": "code",
      "source": [
        "embedding_model = OpenAIEmbeddings()\n",
        "vectorstore = FAISS.from_documents(all_splits, embedding_model)\n",
        "retriever = vectorstore.as_retriever(search_type=\"similarity\", search_kwargs={\"k\": 6})\n",
        "\n",
        "# Realiza a busca\n",
        "query = \"Quais são os conteúdos básicos de língua portuguesa?\"\n",
        "retrieved_docs = retriever.get_relevant_documents(query)\n",
        "\n",
        "# Exibe os resultados\n",
        "for idx, doc in enumerate(retrieved_docs):\n",
        "    print(f\"Documento {idx+1}:\\n{doc.page_content[:500]}\\n\")\n"
      ],
      "metadata": {
        "id": "Ekn7u5FuUC0r",
        "colab": {
          "base_uri": "https://localhost:8080/"
        },
        "outputId": "abf7d06c-bd15-4761-c3f0-fda3e55740e6"
      },
      "execution_count": null,
      "outputs": [
        {
          "output_type": "stream",
          "name": "stdout",
          "text": [
            "Documento 1:\n",
            "Conceitos básicos; Tipos especiais; Representação; Caminhos e circuitos; Árvores e\n",
            "florestas; Busca em largura; Busca em profundidade; Algoritmos de caminho mínimo;\n",
            "Coloração de grafos; Algoritmos de árvore geradora mínima; Outros algoritmos. II -\n",
            "DESENVOLVIMENTO DE SISTEMAS: 1. Fundamentos de Linguagem de Programação: \n",
            "Tipos\n",
            "de dados (vinculação; verificação de tipos, tipificação forte e fraca); Estruturas de controle\n",
            "(comandos de decisão e repetição, exceções, operadores ternários); Modulariza\n",
            "\n",
            "Documento 2:\n",
            "gramaticais relevantes. 3. Vocabulário. 4. Mecanismos de coesão textual (referenciação e\n",
            "sequenciação). 5. Semântica.\n",
            "CONHECIMENTOS TRANSVERSAIS: 1. Políticas Públicas e Desenvolvimento: 1.1\n",
            "Planejamento governamental, finanças e gestão pública; 1.2 Papel das instituições; 1.3\n",
            "Noções sobre finanças públicas, ciclo orçamentário, controles interno e e\n",
            "xterno; 1.4\n",
            "Noções básicas e estágios do ciclo político-administrativo da política pú blica; 1.4.1\n",
            "Importância do monitoramento e da avaliação da ef\n",
            "\n",
            "Documento 3:\n",
            "Portuguesa e Língua Inglesa) e 35 (trinta e cinco) questões de Conhecimentos\n",
            "Específicos, num total de 70 (setenta) questões com 5 (cinco) alternativas \n",
            "de resposta (A,\n",
            "B, C, D, E) e uma única resposta correta. As questões das provas objetivas obedecerão\n",
            "à seguinte valoração:\n",
            "a) Conhecimentos Transversais - 20 (vinte) questões valendo 1,0 (um) ponto,\n",
            "subtotalizando 20,0 (vinte) pontos;\n",
            "b) Língua Portuguesa - 10 (dez) questões valendo 1,0 (um) ponto,\n",
            "subtotalizando 10,0 (dez) pontos;\n",
            "c) Língua In\n",
            "\n",
            "Documento 4:\n",
            "pontuação da prova discursiva;\n",
            "b) elaborar uma resposta que for assinada e/ou apresentar qualquer sinal\n",
            "que, de alguma forma, possibilite a sua identificação.\n",
            "8.1.5.1.1 - Obterá nota ZERO na questão o(a) candidato(a) que:\n",
            "a) der a resposta a lápis, em parte ou na sua totalidade;\n",
            "b) fugir ao tema proposto;\n",
            "c) apresentar texto com letra ilegível ou sob forma não articulada\n",
            "verbalmente em língua portuguesa (apenas com desenhos, números e palavras \n",
            "soltas ou\n",
            "em forma de verso).\n",
            "8.1.5.2 - A avaliação\n",
            "\n",
            "Documento 5:\n",
            "..ENGENHARIA .13 .8 .4 .25 .69 .37 . 19 .125\n",
            "..PSICOLOGIA ORGANIZACIONAL .1 . * .* .1 .2 .2 . 1 .5\n",
            "AC = ampla concorrência PcD = pessoa com deficiência CN = candidato(a)\n",
            "negro(a)\n",
            "*não haverá reserva de vaga para PcD ou para candidatos(as) negros(as) para\n",
            "contratação imediata em razão do quantitativo oferecido, sendo mantido ca\n",
            "dastro de\n",
            "reserva.\n",
            "ANEXO II - CONTEÚDOS PROGRAMÁTICOS\n",
            "CONHECIMENTOS BÁSICOS\n",
            "LÍNGUA PORTUGUESA: 1. Compreensão de texto. 2. Ortografia oficial. 3.\n",
            "Mecanismos de coesão text\n",
            "\n",
            "Documento 6:\n",
            "Comunicação Social, Direito, Economia, Engenharia e Psicologia Organizacional).\n",
            "8.1.1 - Para todas as ênfases do cargo de ANALISTA\n",
            "Quanto à etapa de qualificação técnica, este certame será realizado em duas\n",
            "fases. A primeira será composta por provas objetivas, a segunda fase, por prova\n",
            "discursiva, ambas de caráter eliminatório e classificatório, à exceção da \n",
            "prova de Língua\n",
            "Inglesa, de caráter apenas classificatório.\n",
            "8.1.2 - 1ª Etapa provas objetivas. Essa fase será composta de 35 (trinta e\n",
            "cin\n",
            "\n"
          ]
        },
        {
          "output_type": "stream",
          "name": "stderr",
          "text": [
            "/usr/local/lib/python3.10/dist-packages/langchain_core/_api/deprecation.py:151: LangChainDeprecationWarning: The method `BaseRetriever.get_relevant_documents` was deprecated in langchain-core 0.1.46 and will be removed in 1.0. Use invoke instead.\n",
            "  warn_deprecated(\n"
          ]
        }
      ]
    },
    {
      "cell_type": "markdown",
      "metadata": {
        "id": "jai4I1s0199I"
      },
      "source": [
        "### Buscando e Recuperando Informações - Retrieve"
      ]
    },
    {
      "cell_type": "code",
      "execution_count": null,
      "metadata": {
        "id": "PSBWkjlO199I"
      },
      "outputs": [],
      "source": [
        "from langchain_core.prompts import ChatPromptTemplate\n",
        "\n",
        "system_template = \"\"\"Você é um assistente para tarefas de perguntas e respostas. Use os seguintes trechos de contexto recuperados para responder à pergunta. Se você não souber a resposta, apenas diga que não sabe. Use no máximo duas frases e mantenha a resposta concisa e fale apenas o necessário.\n",
        "\n",
        "Pergunta: {question}\n",
        "\n",
        "Contexto: {context}\n",
        "\n",
        "Resposta:\n",
        "\"\"\"\n",
        "\n",
        "prompt_template = ChatPromptTemplate.from_template(system_template)"
      ]
    },
    {
      "cell_type": "code",
      "execution_count": null,
      "metadata": {
        "id": "WQ3bI3Y0199I",
        "colab": {
          "base_uri": "https://localhost:8080/"
        },
        "outputId": "e1e76580-fb2b-4a2a-fb4b-e1dcf60a4364"
      },
      "outputs": [
        {
          "output_type": "stream",
          "name": "stdout",
          "text": [
            "[HumanMessage(content='Você é um assistente para tarefas de perguntas e respostas. Use os seguintes trechos de contexto recuperados para responder à pergunta. Se você não souber a resposta, apenas diga que não sabe. Use no máximo duas frases e mantenha a resposta concisa e fale apenas o necessário.\\n\\nPergunta: alguma pergunta\\n\\nContexto: algum contexto\\n\\nResposta:\\n')]\n"
          ]
        }
      ],
      "source": [
        "example_messages = prompt_template.invoke({\n",
        "    \"context\": \"algum contexto\",\n",
        "    \"question\": \"alguma pergunta\"\n",
        "})\n",
        "\n",
        "print(example_messages.to_messages())"
      ]
    },
    {
      "cell_type": "markdown",
      "source": [
        "#Adição"
      ],
      "metadata": {
        "id": "jaFqqTcSUIY-"
      }
    },
    {
      "cell_type": "markdown",
      "source": [
        "No lugar de print(example_messages.to_messages()), adicionei uma conexão onde pode conectar a resposta à sua lógica de recuperação de documentos, garantindo que o contexto seja extraído dos documentos recuperados."
      ],
      "metadata": {
        "id": "GkJv90tnUMJs"
      }
    },
    {
      "cell_type": "code",
      "source": [
        "# Recupera os documentos com base na pergunta\n",
        "retrieved_docs = retriever.invoke(\"Quais são os conteúdos básicos de língua portuguesa?\")\n",
        "\n",
        "# Extrai o conteúdo dos documentos\n",
        "context = \"\\n\".join([doc.page_content for doc in retrieved_docs])\n",
        "\n",
        "# Gera a resposta com base no contexto e na pergunta\n",
        "example_messages = prompt_template.invoke({\n",
        "    \"context\": context,\n",
        "    \"question\": \"Quais são os conteúdos básicos de língua portuguesa?\"\n",
        "})\n",
        "\n",
        "print(example_messages.to_messages())\n"
      ],
      "metadata": {
        "id": "4PJNBzEbUNbh",
        "colab": {
          "base_uri": "https://localhost:8080/"
        },
        "outputId": "63748ac1-9754-46ff-c60a-1a6353a59ff6"
      },
      "execution_count": null,
      "outputs": [
        {
          "output_type": "stream",
          "name": "stdout",
          "text": [
            "[HumanMessage(content='Você é um assistente para tarefas de perguntas e respostas. Use os seguintes trechos de contexto recuperados para responder à pergunta. Se você não souber a resposta, apenas diga que não sabe. Use no máximo duas frases e mantenha a resposta concisa e fale apenas o necessário.\\n\\nPergunta: Quais são os conteúdos básicos de língua portuguesa?\\n\\nContexto: Conceitos básicos; Tipos especiais; Representação; Caminhos e circuitos; Árvores e\\nflorestas; Busca em largura; Busca em profundidade; Algoritmos de caminho mínimo;\\nColoração de grafos; Algoritmos de árvore geradora mínima; Outros algoritmos. II -\\nDESENVOLVIMENTO DE SISTEMAS: 1. Fundamentos de Linguagem de Programação: \\nTipos\\nde dados (vinculação; verificação de tipos, tipificação forte e fraca); Estruturas de controle\\n(comandos de decisão e repetição, exceções, operadores ternários); Modularização; Sub-\\nrotinas, funções e funções anônimas; Passagem de parâmetros por referênci\\na e valor;\\nEscopo de variáveis; Linguagem de montagem; Ligação (linking) estática e dinâmica;\\nConceitos de processamento paralelo e distribuído; Programação assíncro\\nna. 2.\\nProgramação orientada a objetos: Conceitos de orientação a objetos; Classes e objetos;\\ngramaticais relevantes. 3. Vocabulário. 4. Mecanismos de coesão textual (referenciação e\\nsequenciação). 5. Semântica.\\nCONHECIMENTOS TRANSVERSAIS: 1. Políticas Públicas e Desenvolvimento: 1.1\\nPlanejamento governamental, finanças e gestão pública; 1.2 Papel das instituições; 1.3\\nNoções sobre finanças públicas, ciclo orçamentário, controles interno e e\\nxterno; 1.4\\nNoções básicas e estágios do ciclo político-administrativo da política pú blica; 1.4.1\\nImportância do monitoramento e da avaliação da efetividade das políticas públicas; 1.4.2\\nModelos de análise de políticas públicas; 1.5 Formas de atuação da política pública; 1.5.1\\nProgramas sociais e de garantia da renda; 1.5.2 Incentivos tributários, su bsídios e taxação;\\n1.6 Papel das compras públicas no adensamento produtivo e tecnológico; 1.7 Políticas\\nfiscal e monetária verdes. 2. Papel do BNDES no desenvolvimento brasileiro: 2.1 História\\npolítica e econômica do Brasil e o papel do BNDES no desenvolvimento do país; 2.1.1 O\\nPortuguesa e Língua Inglesa) e 35 (trinta e cinco) questões de Conhecimentos\\nEspecíficos, num total de 70 (setenta) questões com 5 (cinco) alternativas \\nde resposta (A,\\nB, C, D, E) e uma única resposta correta. As questões das provas objetivas obedecerão\\nà seguinte valoração:\\na) Conhecimentos Transversais - 20 (vinte) questões valendo 1,0 (um) ponto,\\nsubtotalizando 20,0 (vinte) pontos;\\nb) Língua Portuguesa - 10 (dez) questões valendo 1,0 (um) ponto,\\nsubtotalizando 10,0 (dez) pontos;\\nc) Língua Inglesa - 5 (cinco) questões valendo 1,0 (um) ponto, subtotalizan do\\n5,0 (cinco) pontos;\\nd) Conhecimentos Específicos - 35 (trinta e cinco) questões valendo 1,0 (um)\\nponto, subtotalizando 35,0 (trinta e cinco) pontos.\\nTotal das provas objetivas: 70,0 (setenta) PONTOS.\\n8.1.3 Após a 1ª Etapa, os candidatos serão classificados por ênfase a partir do\\ntotal de pontos obtidos, sendo eliminado(a) o(a) candidato(a) que obtiver\\npontuação da prova discursiva;\\nb) elaborar uma resposta que for assinada e/ou apresentar qualquer sinal\\nque, de alguma forma, possibilite a sua identificação.\\n8.1.5.1.1 - Obterá nota ZERO na questão o(a) candidato(a) que:\\na) der a resposta a lápis, em parte ou na sua totalidade;\\nb) fugir ao tema proposto;\\nc) apresentar texto com letra ilegível ou sob forma não articulada\\nverbalmente em língua portuguesa (apenas com desenhos, números e palavras \\nsoltas ou\\nem forma de verso).\\n8.1.5.2 - A avaliação das questões discursivas levará em conta os aspectos\\ndescritos a seguir.\\n8.1.5.2.1 - Com relação às questões de Conhecimentos Específicos, será\\naferida a capacidade de lidar com os conceitos, as técnicas e as atividades, expondo com\\nclareza e objetividade aspectos ligados aos conteúdos específicos da ênfase a que se\\ncandidatou.\\n8.1.5.2.2 - Com relação à questão de Conhecimentos Transversais (comum a\\ntodas as ênfases), a avaliação considerará:\\n..ENGENHARIA .13 .8 .4 .25 .69 .37 . 19 .125\\n..PSICOLOGIA ORGANIZACIONAL .1 . * .* .1 .2 .2 . 1 .5\\nAC = ampla concorrência PcD = pessoa com deficiência CN = candidato(a)\\nnegro(a)\\n*não haverá reserva de vaga para PcD ou para candidatos(as) negros(as) para\\ncontratação imediata em razão do quantitativo oferecido, sendo mantido ca\\ndastro de\\nreserva.\\nANEXO II - CONTEÚDOS PROGRAMÁTICOS\\nCONHECIMENTOS BÁSICOS\\nLÍNGUA PORTUGUESA: 1. Compreensão de texto. 2. Ortografia oficial. 3.\\nMecanismos de coesão textual. 4. Significação das palavras. 5. Emprego das classes de\\npalavras. 6. Coordenação e de subordinação. 7. Emprego dos sinais de pontuação. 8.\\nConcordância verbal e nominal. 9. Regência verbal e nominal.\\nLÍNGUA INGLESA: 1. Compreensão de texto em língua inglesa. 2. Itens\\ngramaticais relevantes. 3. Vocabulário. 4. Mecanismos de coesão textual (referenciação e\\nsequenciação). 5. Semântica.\\nCONHECIMENTOS TRANSVERSAIS: 1. Políticas Públicas e Desenvolvimento: 1.1\\nComunicação Social, Direito, Economia, Engenharia e Psicologia Organizacional).\\n8.1.1 - Para todas as ênfases do cargo de ANALISTA\\nQuanto à etapa de qualificação técnica, este certame será realizado em duas\\nfases. A primeira será composta por provas objetivas, a segunda fase, por prova\\ndiscursiva, ambas de caráter eliminatório e classificatório, à exceção da \\nprova de Língua\\nInglesa, de caráter apenas classificatório.\\n8.1.2 - 1ª Etapa provas objetivas. Essa fase será composta de 35 (trinta e\\ncinco) questões de Conhecimentos Básicos (Conhecimentos Transversais, Língua\\nPortuguesa e Língua Inglesa) e 35 (trinta e cinco) questões de Conhecimentos\\nEspecíficos, num total de 70 (setenta) questões com 5 (cinco) alternativas\\n\\nResposta:\\n')]\n"
          ]
        }
      ]
    },
    {
      "cell_type": "markdown",
      "metadata": {
        "id": "CfNcEgfH199I"
      },
      "source": [
        "### Gerando Respostas - Generate"
      ]
    },
    {
      "cell_type": "code",
      "execution_count": null,
      "metadata": {
        "id": "XB79qD8J199I"
      },
      "outputs": [],
      "source": [
        "from langchain_openai import ChatOpenAI\n",
        "\n",
        "llm = ChatOpenAI(model=\"gpt-4o-mini\")"
      ]
    },
    {
      "cell_type": "code",
      "execution_count": null,
      "metadata": {
        "id": "55-LthIF199J"
      },
      "outputs": [],
      "source": [
        "from langchain_core.output_parsers import StrOutputParser\n",
        "from langchain_core.runnables import RunnablePassthrough\n",
        "\n",
        "def format_docs(docs):\n",
        "    return \"\\n\\n\".join(doc.page_content for doc in docs)\n",
        "\n",
        "rag_chain = (\n",
        "    {\"context\": retriever | format_docs, \"question\": RunnablePassthrough()}\n",
        "    | prompt_template\n",
        "    | llm\n",
        "    | StrOutputParser()\n",
        ")"
      ]
    },
    {
      "cell_type": "code",
      "source": [
        "query = input('Digite uma pergunta sobre o edital concurso do BNDES: ')\n",
        "for chunk in rag_chain.stream(query):\n",
        "    print(chunk, end=\"\", flush=True)"
      ],
      "metadata": {
        "id": "KsQeS45smQhF",
        "colab": {
          "base_uri": "https://localhost:8080/"
        },
        "outputId": "8b5fb2fc-beef-41a8-93d6-c1650a1b1a49"
      },
      "execution_count": null,
      "outputs": [
        {
          "output_type": "stream",
          "name": "stdout",
          "text": [
            "Digite uma pergunta sobre o edital concurso do BNDES: Qual a data da prova?\n",
            "A prova será realizada no dia 13/10/2024."
          ]
        }
      ]
    },
    {
      "cell_type": "markdown",
      "source": [
        "#Resumo do que foi realizado:\n",
        "\n",
        "Escolha do Documento: Foi utilizado um PDF do edital do concurso do BNDES.\n",
        "\n",
        "Splitting do Documento: Utilizamos o RecursiveCharacterTextSplitter para dividir o conteúdo dos documentos em partes menores, facilitando o processamento e a busca.\n",
        "\n",
        "Criação de Vector Store: Foram Indexados os documentos usando FAISS e embeddings do OpenAI para criar uma base de dados vetorial eficiente para recuperação de informações.\n",
        "\n",
        "Retrieval: Foi configurado um retriever para buscar e recuperar documentos relevantes com base em uma consulta, utilizando o tipo de busca por similaridade.\n",
        "\n",
        "Geração de Respostas: Implementamos um pipeline para gerar respostas utilizando um modelo de linguagem (GPT-4(mini)) e um template de prompt específico.\n",
        "\n",
        "No geral o projeto cobre todos os aspectos necessários para um sistema RAG e demonstra uma aplicação prática e funcional dos conceitos.\n",
        "\n",
        "\n",
        "Aprimoramentos possíveis:\n",
        "\n",
        "Explorar o ajuste fino dos parâmetros do retriever, testar diferentes modelos de linguagem ou adicionar funcionalidades adicionais, como o pré-processamento avançado dos documentos."
      ],
      "metadata": {
        "id": "12Y7e73lUkcd"
      }
    }
  ],
  "metadata": {
    "kernelspec": {
      "display_name": "base",
      "language": "python",
      "name": "python3"
    },
    "language_info": {
      "codemirror_mode": {
        "name": "ipython",
        "version": 3
      },
      "file_extension": ".py",
      "mimetype": "text/x-python",
      "name": "python",
      "nbconvert_exporter": "python",
      "pygments_lexer": "ipython3",
      "version": "3.10.13"
    },
    "colab": {
      "provenance": []
    }
  },
  "nbformat": 4,
  "nbformat_minor": 0
}